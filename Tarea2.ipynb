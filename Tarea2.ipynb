{
  "cells": [
    {
      "cell_type": "markdown",
      "metadata": {
        "id": "IMRse1InR9l0"
      },
      "source": [
        "# **CD2201-16: Ciencia de Datos en Astronomía**\n",
        "\n",
        "**Profesores:** Boris Cuevas, Paula Díaz, Danilo Sepúlveda, Francisco Urbina\n",
        "\n",
        "# **Tarea 2: Análisis Estadístico Simple**\n",
        "En esta tarea continuaremos practicando con *Numpy, Pandas y Matplotlib* mientras también aprenderán a realizar análisis estadísticos básicos con estas librerías.\n",
        "\n",
        "A estas alturas ya deben tener una noción de estadística y su aplicación en astronomía. La tarea consiste en hacer estimaciones sencillas a partir de datos astronómicos, usando herramientas básicas de Python que permiten trabajar con la estadística de distribuciones de datos.\n",
        "\n",
        "La tarea está dividida en dos partes. La primera consiste en realizar una estimación del movimiento propio de un cúmulo globular ubicado en el halo de nuestra Galaxia a partir de la distribución de estos datos. La segunda parte consiste en comprobar cómo cambia la Señal a Ruido (S/N) al promediar varios espectros de un objeto. No es necesario que tengan conocimientos previos de astronomía por ahora, basta con que sepan manipular los datos indicados.\n",
        "\n",
        "Esta tarea involucra la creación de varias figuras. Así que **póngase creativo con las figuras :D, sus colores, formas, leyendas, etc. También asegúrese de siempre colocar un título y nombre a los ejes!**"
      ]
    },
    {
      "cell_type": "code",
      "execution_count": 2,
      "metadata": {
        "id": "tlfuUWe3TmIp"
      },
      "outputs": [],
      "source": [
        "# Antes de comenzar con la tarea debe correr esta celda para importar las librerías principales a utilizar\n",
        "import numpy as np\n",
        "import pandas as pd\n",
        "import matplotlib.pyplot as plt"
      ]
    },
    {
      "cell_type": "markdown",
      "metadata": {
        "id": "MmDljzJPNoT8"
      },
      "source": [
        "# Primera parte: Estimar movimiento propio del cúmulo globular NGC 5694\n"
      ]
    },
    {
      "cell_type": "markdown",
      "metadata": {
        "id": "SOUcmgezROKf"
      },
      "source": [
        "En esta primera parte trataremos de estimar una cantidad en astronomía que se llama \"movimiento propio\" para un cúmulo globular llamado [NGC 5694](https://en.wikipedia.org/wiki/NGC_5694). Éste cúmulo globular se encuentra en el halo de nuestra Vía Láctea.\n",
        "\n",
        "El movimiento propio de una estrella es el desplazamiento que esta tiene en el cielo, visto desde la Tierra, con el paso del tiempo. Aunque las estrellas parecen fijas a simple vista, en realidad se están moviendo a través del espacio. El movimiento propio mide este cambio en la posición de la estrella, no hacia nosotros ni alejándose, sino moviéndose de forma lateral en el cielo. Las unidades de medida de esta cantidad son mas/yr (miliarcseconds per year), una cantidad muuuuuuy pequeña."
      ]
    },
    {
      "cell_type": "markdown",
      "metadata": {
        "id": "f4d2PHoYeMet"
      },
      "source": [
        "Para que dimensione lo pequeña que es esta cantidad, calcule cuántos años le tomaría a una estrella, que se desplaza exclusivamente en dirección horizontal en el cielo con un movimiento propio de 1mas/yr, cubrir una distancia de 0.5 grados en el cielo en la misma dirección (equivalente al tamaño aparente de la Luna en el cielo).\n",
        "\n",
        "Hint: 1 grado corresponde a $3.6$ x $10^6$ mas."
      ]
    },
    {
      "cell_type": "markdown",
      "source": [
        "Para calcular el tiempo que le toma a una estrella cubrir la distancia de 0.5 grados, con un movimiento propio de 1 mas/yr, se utiliza la ecuación simplificada de velocidad:\n",
        "\n",
        "(1) $$ v = \\frac{d}{t} $$ \\\n",
        "donde *v* es velocidad en mas/yr, *d* distancia en mas y *t* tiempo en años.\n",
        "\n",
        "Se despeja el tiempo y queda:\n",
        "\n",
        "(2) $$ t = \\frac{d}{v} $$"
      ],
      "metadata": {
        "id": "TEFPlVeHMZB4"
      }
    },
    {
      "cell_type": "code",
      "execution_count": 3,
      "metadata": {
        "id": "ugPRYK9XdzJA",
        "outputId": "b5424bd2-3fa4-4a77-9a02-5735932c1cde",
        "colab": {
          "base_uri": "https://localhost:8080/"
        }
      },
      "outputs": [
        {
          "output_type": "stream",
          "name": "stdout",
          "text": [
            "tarda un tiempo 1800000.0años\n"
          ]
        }
      ],
      "source": [
        "# Haga el cálculo aquí\n",
        "#datos\n",
        "d_rec = 1.8 * 10**6 #0.5 grados en mas\n",
        "v = 1 #mas/yr\n",
        "t = d_rec/v\n",
        "print('tarda un tiempo ' + str(t) + 'años')\n"
      ]
    },
    {
      "cell_type": "markdown",
      "metadata": {
        "id": "yckQW6vpNwBD"
      },
      "source": [
        "### a) Cargar los Datos\n",
        "\n",
        "Primero debe montar el drive, lo que permite leer archivos guardados en el mismo. Para esto debe correr la celda de abajo."
      ]
    },
    {
      "cell_type": "code",
      "execution_count": 4,
      "metadata": {
        "id": "x3pfbt8mPy3d",
        "outputId": "bf0525bc-416b-4645-88a9-e8fe0102b021",
        "colab": {
          "base_uri": "https://localhost:8080/"
        }
      },
      "outputs": [
        {
          "output_type": "stream",
          "name": "stdout",
          "text": [
            "Mounted at /content/drive\n"
          ]
        }
      ],
      "source": [
        "from google.colab import drive\n",
        "drive.mount('/content/drive')"
      ]
    },
    {
      "cell_type": "markdown",
      "metadata": {
        "id": "LsycK59LyoOm"
      },
      "source": [
        "Importe el archivo **ngc5694_pm.csv** utilizando la función **pd.read_csv(path)** y guárdelo como **data**.\n",
        "\n",
        "En la barra de herramientas ubicada en la izquierda, puede encontrar la ruta (path) al archivo \"ngc5694_pm.csv\" dentro de su drive. Copie la ruta y cargue dicha base de datos en la siguiente celda como se le indica."
      ]
    },
    {
      "cell_type": "code",
      "execution_count": 5,
      "metadata": {
        "id": "dfz4NMyXQE9g"
      },
      "outputs": [],
      "source": [
        "path_archivo = '/content/drive/MyDrive/FCFM - Universidad de Chile/Módulo Astro y ciencia de datos/ngc5694_pm.csv'\n",
        "data = pd.read_csv(path_archivo)"
      ]
    },
    {
      "cell_type": "markdown",
      "metadata": {
        "id": "iG__ZWN0uIpr"
      },
      "source": [
        "### b) Explorar el DataFrame\n",
        "Explore las columnas del archivo y muestre el DataFrame"
      ]
    },
    {
      "cell_type": "code",
      "execution_count": 6,
      "metadata": {
        "id": "z4UDi62JuTzQ",
        "outputId": "59dca0be-5a12-4b75-b8fe-6f21ef9d10ac",
        "colab": {
          "base_uri": "https://localhost:8080/"
        }
      },
      "outputs": [
        {
          "output_type": "execute_result",
          "data": {
            "text/plain": [
              "Index(['Unnamed: 0', 'ra', 'dec', 'pmra', 'pmdec'], dtype='object')"
            ]
          },
          "metadata": {},
          "execution_count": 6
        }
      ],
      "source": [
        "# Muestra las columnas aquí\n",
        "columnas = data.columns\n",
        "columnas"
      ]
    },
    {
      "cell_type": "code",
      "execution_count": 7,
      "metadata": {
        "id": "IR0mpS32uYlh",
        "outputId": "e5d5c937-196e-4dc4-e007-4a2bba6ca9d5",
        "colab": {
          "base_uri": "https://localhost:8080/",
          "height": 424
        }
      },
      "outputs": [
        {
          "output_type": "execute_result",
          "data": {
            "text/plain": [
              "     Unnamed: 0          ra        dec      pmra     pmdec\n",
              "0             0  219.370629 -27.312548  0.053134 -1.674613\n",
              "1             1  219.373996 -27.243801 -0.960711 -0.283708\n",
              "2             2  219.363458 -27.213113  0.674957 -1.741153\n",
              "3             3  219.336931 -27.172985 -0.057975 -0.564131\n",
              "4             4  219.463706 -27.189408 -0.438914 -0.487856\n",
              "..          ...         ...        ...       ...       ...\n",
              "616         616  220.732855 -26.148055 -0.269935 -0.891652\n",
              "617         617  220.710525 -26.150902 -0.962554 -0.400258\n",
              "618         618  219.327652 -27.267281 -0.796753 -0.266571\n",
              "619         619  219.225796 -27.172318 -0.901963 -0.302597\n",
              "620         620  219.162241 -27.121378  0.059221 -1.300554\n",
              "\n",
              "[621 rows x 5 columns]"
            ],
            "text/html": [
              "\n",
              "  <div id=\"df-60532c6c-b4f5-4b49-8656-773d6cc0d744\" class=\"colab-df-container\">\n",
              "    <div>\n",
              "<style scoped>\n",
              "    .dataframe tbody tr th:only-of-type {\n",
              "        vertical-align: middle;\n",
              "    }\n",
              "\n",
              "    .dataframe tbody tr th {\n",
              "        vertical-align: top;\n",
              "    }\n",
              "\n",
              "    .dataframe thead th {\n",
              "        text-align: right;\n",
              "    }\n",
              "</style>\n",
              "<table border=\"1\" class=\"dataframe\">\n",
              "  <thead>\n",
              "    <tr style=\"text-align: right;\">\n",
              "      <th></th>\n",
              "      <th>Unnamed: 0</th>\n",
              "      <th>ra</th>\n",
              "      <th>dec</th>\n",
              "      <th>pmra</th>\n",
              "      <th>pmdec</th>\n",
              "    </tr>\n",
              "  </thead>\n",
              "  <tbody>\n",
              "    <tr>\n",
              "      <th>0</th>\n",
              "      <td>0</td>\n",
              "      <td>219.370629</td>\n",
              "      <td>-27.312548</td>\n",
              "      <td>0.053134</td>\n",
              "      <td>-1.674613</td>\n",
              "    </tr>\n",
              "    <tr>\n",
              "      <th>1</th>\n",
              "      <td>1</td>\n",
              "      <td>219.373996</td>\n",
              "      <td>-27.243801</td>\n",
              "      <td>-0.960711</td>\n",
              "      <td>-0.283708</td>\n",
              "    </tr>\n",
              "    <tr>\n",
              "      <th>2</th>\n",
              "      <td>2</td>\n",
              "      <td>219.363458</td>\n",
              "      <td>-27.213113</td>\n",
              "      <td>0.674957</td>\n",
              "      <td>-1.741153</td>\n",
              "    </tr>\n",
              "    <tr>\n",
              "      <th>3</th>\n",
              "      <td>3</td>\n",
              "      <td>219.336931</td>\n",
              "      <td>-27.172985</td>\n",
              "      <td>-0.057975</td>\n",
              "      <td>-0.564131</td>\n",
              "    </tr>\n",
              "    <tr>\n",
              "      <th>4</th>\n",
              "      <td>4</td>\n",
              "      <td>219.463706</td>\n",
              "      <td>-27.189408</td>\n",
              "      <td>-0.438914</td>\n",
              "      <td>-0.487856</td>\n",
              "    </tr>\n",
              "    <tr>\n",
              "      <th>...</th>\n",
              "      <td>...</td>\n",
              "      <td>...</td>\n",
              "      <td>...</td>\n",
              "      <td>...</td>\n",
              "      <td>...</td>\n",
              "    </tr>\n",
              "    <tr>\n",
              "      <th>616</th>\n",
              "      <td>616</td>\n",
              "      <td>220.732855</td>\n",
              "      <td>-26.148055</td>\n",
              "      <td>-0.269935</td>\n",
              "      <td>-0.891652</td>\n",
              "    </tr>\n",
              "    <tr>\n",
              "      <th>617</th>\n",
              "      <td>617</td>\n",
              "      <td>220.710525</td>\n",
              "      <td>-26.150902</td>\n",
              "      <td>-0.962554</td>\n",
              "      <td>-0.400258</td>\n",
              "    </tr>\n",
              "    <tr>\n",
              "      <th>618</th>\n",
              "      <td>618</td>\n",
              "      <td>219.327652</td>\n",
              "      <td>-27.267281</td>\n",
              "      <td>-0.796753</td>\n",
              "      <td>-0.266571</td>\n",
              "    </tr>\n",
              "    <tr>\n",
              "      <th>619</th>\n",
              "      <td>619</td>\n",
              "      <td>219.225796</td>\n",
              "      <td>-27.172318</td>\n",
              "      <td>-0.901963</td>\n",
              "      <td>-0.302597</td>\n",
              "    </tr>\n",
              "    <tr>\n",
              "      <th>620</th>\n",
              "      <td>620</td>\n",
              "      <td>219.162241</td>\n",
              "      <td>-27.121378</td>\n",
              "      <td>0.059221</td>\n",
              "      <td>-1.300554</td>\n",
              "    </tr>\n",
              "  </tbody>\n",
              "</table>\n",
              "<p>621 rows × 5 columns</p>\n",
              "</div>\n",
              "    <div class=\"colab-df-buttons\">\n",
              "\n",
              "  <div class=\"colab-df-container\">\n",
              "    <button class=\"colab-df-convert\" onclick=\"convertToInteractive('df-60532c6c-b4f5-4b49-8656-773d6cc0d744')\"\n",
              "            title=\"Convert this dataframe to an interactive table.\"\n",
              "            style=\"display:none;\">\n",
              "\n",
              "  <svg xmlns=\"http://www.w3.org/2000/svg\" height=\"24px\" viewBox=\"0 -960 960 960\">\n",
              "    <path d=\"M120-120v-720h720v720H120Zm60-500h600v-160H180v160Zm220 220h160v-160H400v160Zm0 220h160v-160H400v160ZM180-400h160v-160H180v160Zm440 0h160v-160H620v160ZM180-180h160v-160H180v160Zm440 0h160v-160H620v160Z\"/>\n",
              "  </svg>\n",
              "    </button>\n",
              "\n",
              "  <style>\n",
              "    .colab-df-container {\n",
              "      display:flex;\n",
              "      gap: 12px;\n",
              "    }\n",
              "\n",
              "    .colab-df-convert {\n",
              "      background-color: #E8F0FE;\n",
              "      border: none;\n",
              "      border-radius: 50%;\n",
              "      cursor: pointer;\n",
              "      display: none;\n",
              "      fill: #1967D2;\n",
              "      height: 32px;\n",
              "      padding: 0 0 0 0;\n",
              "      width: 32px;\n",
              "    }\n",
              "\n",
              "    .colab-df-convert:hover {\n",
              "      background-color: #E2EBFA;\n",
              "      box-shadow: 0px 1px 2px rgba(60, 64, 67, 0.3), 0px 1px 3px 1px rgba(60, 64, 67, 0.15);\n",
              "      fill: #174EA6;\n",
              "    }\n",
              "\n",
              "    .colab-df-buttons div {\n",
              "      margin-bottom: 4px;\n",
              "    }\n",
              "\n",
              "    [theme=dark] .colab-df-convert {\n",
              "      background-color: #3B4455;\n",
              "      fill: #D2E3FC;\n",
              "    }\n",
              "\n",
              "    [theme=dark] .colab-df-convert:hover {\n",
              "      background-color: #434B5C;\n",
              "      box-shadow: 0px 1px 3px 1px rgba(0, 0, 0, 0.15);\n",
              "      filter: drop-shadow(0px 1px 2px rgba(0, 0, 0, 0.3));\n",
              "      fill: #FFFFFF;\n",
              "    }\n",
              "  </style>\n",
              "\n",
              "    <script>\n",
              "      const buttonEl =\n",
              "        document.querySelector('#df-60532c6c-b4f5-4b49-8656-773d6cc0d744 button.colab-df-convert');\n",
              "      buttonEl.style.display =\n",
              "        google.colab.kernel.accessAllowed ? 'block' : 'none';\n",
              "\n",
              "      async function convertToInteractive(key) {\n",
              "        const element = document.querySelector('#df-60532c6c-b4f5-4b49-8656-773d6cc0d744');\n",
              "        const dataTable =\n",
              "          await google.colab.kernel.invokeFunction('convertToInteractive',\n",
              "                                                    [key], {});\n",
              "        if (!dataTable) return;\n",
              "\n",
              "        const docLinkHtml = 'Like what you see? Visit the ' +\n",
              "          '<a target=\"_blank\" href=https://colab.research.google.com/notebooks/data_table.ipynb>data table notebook</a>'\n",
              "          + ' to learn more about interactive tables.';\n",
              "        element.innerHTML = '';\n",
              "        dataTable['output_type'] = 'display_data';\n",
              "        await google.colab.output.renderOutput(dataTable, element);\n",
              "        const docLink = document.createElement('div');\n",
              "        docLink.innerHTML = docLinkHtml;\n",
              "        element.appendChild(docLink);\n",
              "      }\n",
              "    </script>\n",
              "  </div>\n",
              "\n",
              "\n",
              "<div id=\"df-f2909710-cad5-463c-b721-63eb50df9828\">\n",
              "  <button class=\"colab-df-quickchart\" onclick=\"quickchart('df-f2909710-cad5-463c-b721-63eb50df9828')\"\n",
              "            title=\"Suggest charts\"\n",
              "            style=\"display:none;\">\n",
              "\n",
              "<svg xmlns=\"http://www.w3.org/2000/svg\" height=\"24px\"viewBox=\"0 0 24 24\"\n",
              "     width=\"24px\">\n",
              "    <g>\n",
              "        <path d=\"M19 3H5c-1.1 0-2 .9-2 2v14c0 1.1.9 2 2 2h14c1.1 0 2-.9 2-2V5c0-1.1-.9-2-2-2zM9 17H7v-7h2v7zm4 0h-2V7h2v10zm4 0h-2v-4h2v4z\"/>\n",
              "    </g>\n",
              "</svg>\n",
              "  </button>\n",
              "\n",
              "<style>\n",
              "  .colab-df-quickchart {\n",
              "      --bg-color: #E8F0FE;\n",
              "      --fill-color: #1967D2;\n",
              "      --hover-bg-color: #E2EBFA;\n",
              "      --hover-fill-color: #174EA6;\n",
              "      --disabled-fill-color: #AAA;\n",
              "      --disabled-bg-color: #DDD;\n",
              "  }\n",
              "\n",
              "  [theme=dark] .colab-df-quickchart {\n",
              "      --bg-color: #3B4455;\n",
              "      --fill-color: #D2E3FC;\n",
              "      --hover-bg-color: #434B5C;\n",
              "      --hover-fill-color: #FFFFFF;\n",
              "      --disabled-bg-color: #3B4455;\n",
              "      --disabled-fill-color: #666;\n",
              "  }\n",
              "\n",
              "  .colab-df-quickchart {\n",
              "    background-color: var(--bg-color);\n",
              "    border: none;\n",
              "    border-radius: 50%;\n",
              "    cursor: pointer;\n",
              "    display: none;\n",
              "    fill: var(--fill-color);\n",
              "    height: 32px;\n",
              "    padding: 0;\n",
              "    width: 32px;\n",
              "  }\n",
              "\n",
              "  .colab-df-quickchart:hover {\n",
              "    background-color: var(--hover-bg-color);\n",
              "    box-shadow: 0 1px 2px rgba(60, 64, 67, 0.3), 0 1px 3px 1px rgba(60, 64, 67, 0.15);\n",
              "    fill: var(--button-hover-fill-color);\n",
              "  }\n",
              "\n",
              "  .colab-df-quickchart-complete:disabled,\n",
              "  .colab-df-quickchart-complete:disabled:hover {\n",
              "    background-color: var(--disabled-bg-color);\n",
              "    fill: var(--disabled-fill-color);\n",
              "    box-shadow: none;\n",
              "  }\n",
              "\n",
              "  .colab-df-spinner {\n",
              "    border: 2px solid var(--fill-color);\n",
              "    border-color: transparent;\n",
              "    border-bottom-color: var(--fill-color);\n",
              "    animation:\n",
              "      spin 1s steps(1) infinite;\n",
              "  }\n",
              "\n",
              "  @keyframes spin {\n",
              "    0% {\n",
              "      border-color: transparent;\n",
              "      border-bottom-color: var(--fill-color);\n",
              "      border-left-color: var(--fill-color);\n",
              "    }\n",
              "    20% {\n",
              "      border-color: transparent;\n",
              "      border-left-color: var(--fill-color);\n",
              "      border-top-color: var(--fill-color);\n",
              "    }\n",
              "    30% {\n",
              "      border-color: transparent;\n",
              "      border-left-color: var(--fill-color);\n",
              "      border-top-color: var(--fill-color);\n",
              "      border-right-color: var(--fill-color);\n",
              "    }\n",
              "    40% {\n",
              "      border-color: transparent;\n",
              "      border-right-color: var(--fill-color);\n",
              "      border-top-color: var(--fill-color);\n",
              "    }\n",
              "    60% {\n",
              "      border-color: transparent;\n",
              "      border-right-color: var(--fill-color);\n",
              "    }\n",
              "    80% {\n",
              "      border-color: transparent;\n",
              "      border-right-color: var(--fill-color);\n",
              "      border-bottom-color: var(--fill-color);\n",
              "    }\n",
              "    90% {\n",
              "      border-color: transparent;\n",
              "      border-bottom-color: var(--fill-color);\n",
              "    }\n",
              "  }\n",
              "</style>\n",
              "\n",
              "  <script>\n",
              "    async function quickchart(key) {\n",
              "      const quickchartButtonEl =\n",
              "        document.querySelector('#' + key + ' button');\n",
              "      quickchartButtonEl.disabled = true;  // To prevent multiple clicks.\n",
              "      quickchartButtonEl.classList.add('colab-df-spinner');\n",
              "      try {\n",
              "        const charts = await google.colab.kernel.invokeFunction(\n",
              "            'suggestCharts', [key], {});\n",
              "      } catch (error) {\n",
              "        console.error('Error during call to suggestCharts:', error);\n",
              "      }\n",
              "      quickchartButtonEl.classList.remove('colab-df-spinner');\n",
              "      quickchartButtonEl.classList.add('colab-df-quickchart-complete');\n",
              "    }\n",
              "    (() => {\n",
              "      let quickchartButtonEl =\n",
              "        document.querySelector('#df-f2909710-cad5-463c-b721-63eb50df9828 button');\n",
              "      quickchartButtonEl.style.display =\n",
              "        google.colab.kernel.accessAllowed ? 'block' : 'none';\n",
              "    })();\n",
              "  </script>\n",
              "</div>\n",
              "\n",
              "  <div id=\"id_f0768ae7-49c2-484c-84cb-c34e50f766c9\">\n",
              "    <style>\n",
              "      .colab-df-generate {\n",
              "        background-color: #E8F0FE;\n",
              "        border: none;\n",
              "        border-radius: 50%;\n",
              "        cursor: pointer;\n",
              "        display: none;\n",
              "        fill: #1967D2;\n",
              "        height: 32px;\n",
              "        padding: 0 0 0 0;\n",
              "        width: 32px;\n",
              "      }\n",
              "\n",
              "      .colab-df-generate:hover {\n",
              "        background-color: #E2EBFA;\n",
              "        box-shadow: 0px 1px 2px rgba(60, 64, 67, 0.3), 0px 1px 3px 1px rgba(60, 64, 67, 0.15);\n",
              "        fill: #174EA6;\n",
              "      }\n",
              "\n",
              "      [theme=dark] .colab-df-generate {\n",
              "        background-color: #3B4455;\n",
              "        fill: #D2E3FC;\n",
              "      }\n",
              "\n",
              "      [theme=dark] .colab-df-generate:hover {\n",
              "        background-color: #434B5C;\n",
              "        box-shadow: 0px 1px 3px 1px rgba(0, 0, 0, 0.15);\n",
              "        filter: drop-shadow(0px 1px 2px rgba(0, 0, 0, 0.3));\n",
              "        fill: #FFFFFF;\n",
              "      }\n",
              "    </style>\n",
              "    <button class=\"colab-df-generate\" onclick=\"generateWithVariable('data')\"\n",
              "            title=\"Generate code using this dataframe.\"\n",
              "            style=\"display:none;\">\n",
              "\n",
              "  <svg xmlns=\"http://www.w3.org/2000/svg\" height=\"24px\"viewBox=\"0 0 24 24\"\n",
              "       width=\"24px\">\n",
              "    <path d=\"M7,19H8.4L18.45,9,17,7.55,7,17.6ZM5,21V16.75L18.45,3.32a2,2,0,0,1,2.83,0l1.4,1.43a1.91,1.91,0,0,1,.58,1.4,1.91,1.91,0,0,1-.58,1.4L9.25,21ZM18.45,9,17,7.55Zm-12,3A5.31,5.31,0,0,0,4.9,8.1,5.31,5.31,0,0,0,1,6.5,5.31,5.31,0,0,0,4.9,4.9,5.31,5.31,0,0,0,6.5,1,5.31,5.31,0,0,0,8.1,4.9,5.31,5.31,0,0,0,12,6.5,5.46,5.46,0,0,0,6.5,12Z\"/>\n",
              "  </svg>\n",
              "    </button>\n",
              "    <script>\n",
              "      (() => {\n",
              "      const buttonEl =\n",
              "        document.querySelector('#id_f0768ae7-49c2-484c-84cb-c34e50f766c9 button.colab-df-generate');\n",
              "      buttonEl.style.display =\n",
              "        google.colab.kernel.accessAllowed ? 'block' : 'none';\n",
              "\n",
              "      buttonEl.onclick = () => {\n",
              "        google.colab.notebook.generateWithVariable('data');\n",
              "      }\n",
              "      })();\n",
              "    </script>\n",
              "  </div>\n",
              "\n",
              "    </div>\n",
              "  </div>\n"
            ],
            "application/vnd.google.colaboratory.intrinsic+json": {
              "type": "dataframe",
              "variable_name": "data",
              "summary": "{\n  \"name\": \"data\",\n  \"rows\": 621,\n  \"fields\": [\n    {\n      \"column\": \"Unnamed: 0\",\n      \"properties\": {\n        \"dtype\": \"number\",\n        \"std\": 179,\n        \"min\": 0,\n        \"max\": 620,\n        \"num_unique_values\": 621,\n        \"samples\": [\n          49,\n          584,\n          82\n        ],\n        \"semantic_type\": \"\",\n        \"description\": \"\"\n      }\n    },\n    {\n      \"column\": \"ra\",\n      \"properties\": {\n        \"dtype\": \"number\",\n        \"std\": 0.379300322763466,\n        \"min\": 218.92974692026868,\n        \"max\": 220.8914308796261,\n        \"num_unique_values\": 621,\n        \"samples\": [\n          219.96676748452632,\n          220.2567759779741,\n          219.87997965757623\n        ],\n        \"semantic_type\": \"\",\n        \"description\": \"\"\n      }\n    },\n    {\n      \"column\": \"dec\",\n      \"properties\": {\n        \"dtype\": \"number\",\n        \"std\": 0.3189397096408327,\n        \"min\": -27.42360916434232,\n        \"max\": -25.6258873419358,\n        \"num_unique_values\": 621,\n        \"samples\": [\n          -26.56189583586245,\n          -26.49625094080084,\n          -26.55736102560181\n        ],\n        \"semantic_type\": \"\",\n        \"description\": \"\"\n      }\n    },\n    {\n      \"column\": \"pmra\",\n      \"properties\": {\n        \"dtype\": \"number\",\n        \"std\": 0.43823620785185174,\n        \"min\": -0.9996359105774528,\n        \"max\": 0.6754947553818348,\n        \"num_unique_values\": 621,\n        \"samples\": [\n          -0.4641515803029317,\n          -0.6656689032291498,\n          -0.9085819402945384\n        ],\n        \"semantic_type\": \"\",\n        \"description\": \"\"\n      }\n    },\n    {\n      \"column\": \"pmdec\",\n      \"properties\": {\n        \"dtype\": \"number\",\n        \"std\": 0.42760876013101434,\n        \"min\": -1.897719807252715,\n        \"max\": -0.0990601596139654,\n        \"num_unique_values\": 621,\n        \"samples\": [\n          -1.0913779218482405,\n          -1.826220454875675,\n          -1.043568500030713\n        ],\n        \"semantic_type\": \"\",\n        \"description\": \"\"\n      }\n    }\n  ]\n}"
            }
          },
          "metadata": {},
          "execution_count": 7
        }
      ],
      "source": [
        "# Muestra el DataFrame aquí\n",
        "show_data = data\n",
        "show_data"
      ]
    },
    {
      "cell_type": "markdown",
      "metadata": {
        "id": "q_CLEl5CzgPM"
      },
      "source": [
        "### c) Graficar un scatter plot\n",
        "Cada fila del DataFrame corresponde a una estrella del cielo y, como habra notado, hay dos columnas denominadas **pmra** y **pmdec**. Estas representan el movimiento propio en ascensión recta y el movimiento propio en declinación, respectivamente, que son los desplazamientos de una estrella en dos ejes distintos del cielo: RA y DEC.\n",
        "\n",
        "Selecciona del DataFrame los datos de las columnas **pmra** y **pmdec** y guárdalos en las variables indicadas. Luego, realiza un gráfico de dispersión (scatter plot) colocando en el eje x los datos de \"pmra\" y en el eje y los de \"pmdec\"."
      ]
    },
    {
      "cell_type": "code",
      "execution_count": 8,
      "metadata": {
        "collapsed": true,
        "id": "ljT-OoR0madd",
        "jupyter": {
          "outputs_hidden": true
        }
      },
      "outputs": [],
      "source": [
        "# Se seleccionan los datos de las columnas\n",
        "# pmra y pmdec\n",
        "# y se guardan en las variables:\n",
        "pmra = data['pmra']\n",
        "pmdec = data['pmdec']"
      ]
    },
    {
      "cell_type": "code",
      "execution_count": 9,
      "metadata": {
        "id": "4gkoGTBgmt1L",
        "outputId": "6cb4366b-a907-4323-f072-468404eeeec0",
        "colab": {
          "base_uri": "https://localhost:8080/",
          "height": 565
        }
      },
      "outputs": [
        {
          "output_type": "display_data",
          "data": {
            "text/plain": [
              "<Figure size 800x600 with 1 Axes>"
            ],
            "image/png": "[encoded data removed]"
          },
          "metadata": {}
        }
      ],
      "source": [
        "# Haga el gráfico en esta celda\n",
        "plt.figure(figsize=(8, 6))\n",
        "plt.scatter(pmra, pmdec, s = 10, alpha = 0.8, color = 'orange')\n",
        "plt.xlabel('Movimiento propio en ascensión recta (pmra)')\n",
        "plt.ylabel('Movimiento propio en declinación (pmdec)')\n",
        "plt.title('Diagrama de movimiento propio para NGC 5694')\n",
        "plt.grid(True)\n",
        "plt.show()"
      ]
    },
    {
      "cell_type": "markdown",
      "metadata": {
        "id": "8GmiOdWRmxs8"
      },
      "source": [
        "Si observa bien, parece que los puntos se concentran hacia la parte izquierda del gráfico. Ese grupo representa los movimientos propios de las estrellas que pertencen al cúmulo globular. Los demás puntos corresponden a los movimientos propios de estrellas de la galaxia que se \"colaron\" en la línea de visión entre nosotros (Tierra) y el cúmulo."
      ]
    },
    {
      "cell_type": "markdown",
      "metadata": {
        "id": "06TGBeMC_6By"
      },
      "source": [
        "### c) Generar distribución Gaussiana\n",
        "Calcule el promedio y la desviación estándar de ambas columnas (**pmra** y **pmdec**) y guárdelos en las variables que se indican."
      ]
    },
    {
      "cell_type": "code",
      "execution_count": 10,
      "metadata": {
        "id": "yQr1b2gToCfa",
        "outputId": "712a3508-ee98-463e-cdb2-a7e66ad4578e",
        "colab": {
          "base_uri": "https://localhost:8080/"
        }
      },
      "outputs": [
        {
          "output_type": "stream",
          "name": "stdout",
          "text": [
            "-0.3123486977209311\n",
            "0.43823620785185174\n",
            "-1.0897362576861138\n",
            "0.42760876013101434\n"
          ]
        }
      ],
      "source": [
        "mu_pmra = pmra.mean()\n",
        "std_pmra = pmra.std()\n",
        "print(mu_pmra)\n",
        "print(std_pmra)\n",
        "\n",
        "mu_pmdec = pmdec.mean()\n",
        "std_pmdec = pmdec.std()\n",
        "print(mu_pmdec)\n",
        "print(std_pmdec)"
      ]
    },
    {
      "cell_type": "markdown",
      "metadata": {
        "id": "EDQZsqWSo4BI"
      },
      "source": [
        "Con los promedios y desviaciones estandar obtenidas, simule una distribución gaussiana para cada eje del movimieto propio (pmra y pmdec). Recuerda que la distribución gaussiana es de la forma:\n",
        "\n",
        "$$f(x) = \\frac{1}{\\sqrt{2\\pi\\sigma^2}}e^{-\\frac{(x-\\mu)^2}{2\\sigma^2}}$$\n",
        "\n",
        "\n",
        "Por lo que necesitamos los valores de $x, \\mu$ y $\\sigma$ para cada caso.\n",
        "\n",
        "**En ascención recta**:\n",
        "1. Crea un arreglo de 300 números que estén entre -1.5 y 1. Este sería el $x$\n",
        "2. Con $\\mu$ y $\\sigma$ correspondientes a pmra calculados en la celda de arriba, genere los valores $f(x)$. Para eso, utilize la función **norm** de **scipy.stats** que está importada en la siguiente celda. Usa el método **pdf** (probability density function)\n",
        "\n",
        "\n",
        "\n",
        "**En declinación:**\n",
        "Haga lo mismo, pero el $x$ sería 300 números que estén entre -2.5 y 0.5."
      ]
    },
    {
      "cell_type": "code",
      "execution_count": 15,
      "metadata": {
        "id": "gR7uz9K0o4Pj",
        "outputId": "156bc897-638b-4323-88fb-5041027494fc",
        "colab": {
          "base_uri": "https://localhost:8080/"
        }
      },
      "outputs": [
        {
          "output_type": "stream",
          "name": "stdout",
          "text": [
            "[0.0231402  0.02436372 0.0256426  0.0269788  0.02837428 0.02983109\n",
            " 0.03135128 0.03293695 0.03459022 0.03631326 0.03810825 0.03997741\n",
            " 0.04192299 0.04394726 0.0460525  0.04824103 0.05051517 0.05287726\n",
            " 0.05532966 0.05787473 0.06051484 0.06325235 0.06608964 0.06902906\n",
            " 0.07207299 0.07522374 0.07848367 0.08185506 0.08534021 0.08894136\n",
            " 0.09266074 0.09650052 0.10046284 0.10454979 0.1087634  0.11310565\n",
            " 0.11757845 0.12218365 0.126923   0.13179821 0.13681086 0.14196248\n",
            " 0.14725446 0.15268813 0.15826467 0.16398519 0.16985063 0.17586183\n",
            " 0.18201951 0.18832423 0.19477642 0.20137635 0.20812414 0.21501975\n",
            " 0.22206298 0.22925346 0.23659062 0.24407374 0.25170191 0.25947402\n",
            " 0.26738876 0.27544464 0.28363996 0.29197281 0.30044108 0.30904245\n",
            " 0.31777437 0.32663408 0.33561862 0.34472478 0.35394914 0.36328807\n",
            " 0.3727377  0.38229394 0.39195249 0.40170879 0.41155811 0.42149545\n",
            " 0.43151563 0.44161324 0.45178265 0.46201802 0.47231333 0.48266231\n",
            " 0.49305855 0.50349539 0.51396603 0.52446348 0.53498054 0.5455099\n",
            " 0.55604404 0.56657533 0.57709597 0.58759802 0.59807345 0.60851407\n",
            " 0.61891163 0.62925774 0.63954396 0.64976176 0.65990254 0.66995767\n",
            " 0.67991847 0.68977623 0.69952222 0.70914773 0.71864404 0.72800246\n",
            " 0.73721435 0.7462711  0.75516416 0.76388509 0.7724255  0.78077712\n",
            " 0.78893181 0.79688154 0.80461843 0.81213475 0.81942295 0.82647564\n",
            " 0.83328565 0.839846   0.84614994 0.85219092 0.85796266 0.86345912\n",
            " 0.86867452 0.87360337 0.87824042 0.88258076 0.88661974 0.89035305\n",
            " 0.89377667 0.89688691 0.89968041 0.90215416 0.90430547 0.906132\n",
            " 0.90763177 0.90880313 0.90964483 0.91015593 0.91033588 0.91018449\n",
            " 0.90970191 0.90888868 0.90774568 0.90627416 0.90447572 0.90235232\n",
            " 0.89990626 0.8971402  0.89405714 0.89066039 0.88695362 0.88294082\n",
            " 0.87862628 0.87401461 0.86911071 0.86391979 0.85844733 0.85269908\n",
            " 0.84668106 0.84039954 0.83386103 0.82707226 0.82004021 0.81277202\n",
            " 0.80527507 0.79755689 0.7896252  0.78148786 0.77315289 0.76462843\n",
            " 0.75592273 0.74704417 0.7380012  0.72880235 0.71945621 0.70997144\n",
            " 0.70035673 0.69062077 0.68077231 0.67082005 0.66077271 0.65063896\n",
            " 0.64042747 0.63014681 0.61980552 0.60941207 0.59897483 0.58850208\n",
            " 0.578002   0.56748265 0.55695197 0.54641777 0.53588771 0.52536929\n",
            " 0.51486987 0.50439664 0.49395661 0.48355661 0.4732033  0.46290312\n",
            " 0.45266234 0.44248701 0.43238299 0.42235592 0.41241123 0.40255412\n",
            " 0.39278961 0.38312246 0.37355723 0.36409825 0.35474962 0.34551523\n",
            " 0.33639875 0.3274036  0.31853301 0.30978996 0.30117724 0.2926974\n",
            " 0.28435279 0.27614554 0.26807757 0.2601506  0.25236615 0.24472553\n",
            " 0.23722987 0.22988009 0.22267695 0.21562101 0.20871266 0.20195213\n",
            " 0.19533946 0.18887455 0.18255713 0.17638679 0.17036299 0.16448502\n",
            " 0.15875205 0.15316314 0.1477172  0.14241306 0.1372494  0.13222482\n",
            " 0.12733783 0.12258683 0.11797014 0.113486   0.10913257 0.10490795\n",
            " 0.10081016 0.09683718 0.09298692 0.08925725 0.085646   0.08215094\n",
            " 0.07876983 0.07550039 0.07234031 0.06928728 0.06633894 0.06349294\n",
            " 0.06074692 0.05809851 0.05554534 0.05308505 0.05071526 0.04843363\n",
            " 0.04623782 0.04412549 0.04209434 0.04014206 0.0382664  0.0364651\n",
            " 0.03473595 0.03307675 0.03148534 0.02995959 0.0284974  0.02709671\n",
            " 0.02575549 0.02447174 0.02324352 0.02206891 0.02094603 0.01987305\n",
            " 0.01884817 0.01786964 0.01693574 0.01604481 0.01519522 0.01438537\n",
            " 0.01361373 0.01287879 0.0121791  0.01151323 0.0108798  0.01027748]\n",
            "[4.05472893e-03 4.37975870e-03 4.72823917e-03 5.10163733e-03\n",
            " 5.50149372e-03 5.92942465e-03 6.38712449e-03 6.87636785e-03\n",
            " 7.39901172e-03 7.95699751e-03 8.55235310e-03 9.18719464e-03\n",
            " 9.86372840e-03 1.05842524e-02 1.13511578e-02 1.21669306e-02\n",
            " 1.30341524e-02 1.39555015e-02 1.49337542e-02 1.59717845e-02\n",
            " 1.70725651e-02 1.82391673e-02 1.94747608e-02 2.07826129e-02\n",
            " 2.21660883e-02 2.36286475e-02 2.51738455e-02 2.68053297e-02\n",
            " 2.85268382e-02 3.03421966e-02 3.22553152e-02 3.42701855e-02\n",
            " 3.63908764e-02 3.86215294e-02 4.09663541e-02 4.34296225e-02\n",
            " 4.60156635e-02 4.87288560e-02 5.15736224e-02 5.45544209e-02\n",
            " 5.76757377e-02 6.09420782e-02 6.43579578e-02 6.79278930e-02\n",
            " 7.16563901e-02 7.55479356e-02 7.96069841e-02 8.38379468e-02\n",
            " 8.82451794e-02 9.28329690e-02 9.76055210e-02 1.02566945e-01\n",
            " 1.07721242e-01 1.13072287e-01 1.18623817e-01 1.24379414e-01\n",
            " 1.30342489e-01 1.36516269e-01 1.42903775e-01 1.49507812e-01\n",
            " 1.56330950e-01 1.63375504e-01 1.70643522e-01 1.78136767e-01\n",
            " 1.85856699e-01 1.93804460e-01 2.01980855e-01 2.10386342e-01\n",
            " 2.19021006e-01 2.27884555e-01 2.36976295e-01 2.46295124e-01\n",
            " 2.55839511e-01 2.65607487e-01 2.75596629e-01 2.85804054e-01\n",
            " 2.96226400e-01 3.06859823e-01 3.17699985e-01 3.28742044e-01\n",
            " 3.39980652e-01 3.51409944e-01 3.63023537e-01 3.74814528e-01\n",
            " 3.86775486e-01 3.98898460e-01 4.11174972e-01 4.23596026e-01\n",
            " 4.36152109e-01 4.48833195e-01 4.61628757e-01 4.74527773e-01\n",
            " 4.87518734e-01 5.00589662e-01 5.13728118e-01 5.26921223e-01\n",
            " 5.40155670e-01 5.53417745e-01 5.66693348e-01 5.79968016e-01\n",
            " 5.93226941e-01 6.06455001e-01 6.19636783e-01 6.32756614e-01\n",
            " 6.45798586e-01 6.58746589e-01 6.71584344e-01 6.84295431e-01\n",
            " 6.96863328e-01 7.09271444e-01 7.21503152e-01 7.33541830e-01\n",
            " 7.45370893e-01 7.56973834e-01 7.68334262e-01 7.79435936e-01\n",
            " 7.90262810e-01 8.00799065e-01 8.11029149e-01 8.20937819e-01\n",
            " 8.30510174e-01 8.39731692e-01 8.48588271e-01 8.57066260e-01\n",
            " 8.65152499e-01 8.72834347e-01 8.80099720e-01 8.86937120e-01\n",
            " 8.93335666e-01 8.99285123e-01 9.04775929e-01 9.09799221e-01\n",
            " 9.14346858e-01 9.18411444e-01 9.21986348e-01 9.25065719e-01\n",
            " 9.27644508e-01 9.29718477e-01 9.31284210e-01 9.32339128e-01\n",
            " 9.32881490e-01 9.32910399e-01 9.32425809e-01 9.31428520e-01\n",
            " 9.29920177e-01 9.27903267e-01 9.25381110e-01 9.22357853e-01\n",
            " 9.18838455e-01 9.14828677e-01 9.10335063e-01 9.05364924e-01\n",
            " 8.99926317e-01 8.94028027e-01 8.87679537e-01 8.80891008e-01\n",
            " 8.73673250e-01 8.66037693e-01 8.57996356e-01 8.49561819e-01\n",
            " 8.40747186e-01 8.31566054e-01 8.22032476e-01 8.12160928e-01\n",
            " 8.01966271e-01 7.91463711e-01 7.80668768e-01 7.69597230e-01\n",
            " 7.58265123e-01 7.46688666e-01 7.34884235e-01 7.22868328e-01\n",
            " 7.10657519e-01 6.98268432e-01 6.85717692e-01 6.73021897e-01\n",
            " 6.60197579e-01 6.47261171e-01 6.34228969e-01 6.21117104e-01\n",
            " 6.07941508e-01 5.94717883e-01 5.81461672e-01 5.68188031e-01\n",
            " 5.54911804e-01 5.41647494e-01 5.28409245e-01 5.15210814e-01\n",
            " 5.02065554e-01 4.88986395e-01 4.75985825e-01 4.63075875e-01\n",
            " 4.50268107e-01 4.37573599e-01 4.25002934e-01 4.12566195e-01\n",
            " 4.00272952e-01 3.88132261e-01 3.76152657e-01 3.64342152e-01\n",
            " 3.52708234e-01 3.41257866e-01 3.29997491e-01 3.18933029e-01\n",
            " 3.08069888e-01 2.97412965e-01 2.86966656e-01 2.76734861e-01\n",
            " 2.66720993e-01 2.56927991e-01 2.47358327e-01 2.38014022e-01\n",
            " 2.28896654e-01 2.20007376e-01 2.11346923e-01 2.02915635e-01\n",
            " 1.94713466e-01 1.86740001e-01 1.78994473e-01 1.71475776e-01\n",
            " 1.64182486e-01 1.57112874e-01 1.50264922e-01 1.43636343e-01\n",
            " 1.37224597e-01 1.31026905e-01 1.25040268e-01 1.19261482e-01\n",
            " 1.13687155e-01 1.08313725e-01 1.03137471e-01 9.81545323e-02\n",
            " 9.33609218e-02 8.87525415e-02 8.43251958e-02 8.00746064e-02\n",
            " 7.59964245e-02 7.20862446e-02 6.83396162e-02 6.47520562e-02\n",
            " 6.13190596e-02 5.80361108e-02 5.48986936e-02 5.19023010e-02\n",
            " 4.90424444e-02 4.63146619e-02 4.37145267e-02 4.12376547e-02\n",
            " 3.88797110e-02 3.66364169e-02 3.45035554e-02 3.24769772e-02\n",
            " 3.05526050e-02 2.87264384e-02 2.69945576e-02 2.53531275e-02\n",
            " 2.37984000e-02 2.23267172e-02 2.09345137e-02 1.96183183e-02\n",
            " 1.83747556e-02 1.72005470e-02 1.60925118e-02 1.50475679e-02\n",
            " 1.40627313e-02 1.31351168e-02 1.22619374e-02 1.14405036e-02\n",
            " 1.06682230e-02 9.94259890e-03 9.26122954e-03 8.62180648e-03\n",
            " 8.02211321e-03 7.46002351e-03 6.93349967e-03 6.44059063e-03\n",
            " 5.97943001e-03 5.54823401e-03 5.14529936e-03 4.76900106e-03\n",
            " 4.41779016e-03 4.09019149e-03 3.78480138e-03 3.50028525e-03\n",
            " 3.23537539e-03 2.98886851e-03 2.75962351e-03 2.54655907e-03\n",
            " 2.34865144e-03 2.16493207e-03 1.99448546e-03 1.83644687e-03\n",
            " 1.69000020e-03 1.55437584e-03 1.42884859e-03 1.31273565e-03\n",
            " 1.20539460e-03 1.10622150e-03 1.01464903e-03 9.30144640e-04]\n"
          ]
        }
      ],
      "source": [
        "from scipy.stats import norm\n",
        "\n",
        "#Distribución Gaussiana para pmra\n",
        "#(Ascensión recta)\n",
        "x_pmra = np.linspace(-1.5, 1, 300)\n",
        "fx_pmra = norm.pdf(x_pmra, mu_pmra, std_pmra)\n",
        "print (fx_pmra)\n",
        "\n",
        "#Distribución Gaussiana para pmra\n",
        "#(Declinación)\n",
        "x_pmdec = np.linspace(-2.5, 0.5, 300)\n",
        "fx_pmdec = norm.pdf(x_pmdec, mu_pmdec, std_pmdec)\n",
        "print (fx_pmdec)"
      ]
    },
    {
      "cell_type": "markdown",
      "metadata": {
        "id": "PRr7uiMTALrW"
      },
      "source": [
        "### d) Graficar histogramas de la distribución de movimientos propios junto a la distribución Gaussiana\n",
        "\n",
        "Grafique con matplotlib un hitograma (busque qué método de matplotlib sirve) de pmra y sobre él grafique la gaussiana correspondiente."
      ]
    },
    {
      "cell_type": "code",
      "execution_count": null,
      "metadata": {
        "id": "rseJSP8r1yfh"
      },
      "outputs": [],
      "source": []
    },
    {
      "cell_type": "markdown",
      "metadata": {
        "id": "hUFWG5eS10dE"
      },
      "source": [
        "Notará que la gaussiana apenas se ve en el gráfico, esto es porque la gaussiana está normalizada (el área bajo la curva es 1), pero esto no es así para el histograma. El problema se puede arreglar incluyendo el parámetro **density=True** en el método que grafica el histograma.\n",
        "\n",
        "Repita la gráfica anterior pero ahora tanto para pmra como para pmdec e incorporando la modificación de **density=True**. Muestre los gráficos en una misma figura como subplots."
      ]
    },
    {
      "cell_type": "code",
      "execution_count": null,
      "metadata": {
        "id": "zVQmIYkC5Iwl"
      },
      "outputs": [],
      "source": []
    },
    {
      "cell_type": "markdown",
      "metadata": {
        "id": "9XPRCYBT5SKE"
      },
      "source": [
        "Repita la figura anterior y ahora agréguele a cada gráfica (pmra y pmdec) una franja vertical que abarque $\\mu \\pm \\sigma$ utilizando **plt.axvspan()**"
      ]
    },
    {
      "cell_type": "code",
      "execution_count": null,
      "metadata": {
        "id": "LrTcPtZG5_4z"
      },
      "outputs": [],
      "source": []
    },
    {
      "cell_type": "markdown",
      "metadata": {
        "id": "TeKH3rnms03h"
      },
      "source": [
        "Según las gaussiaas obtenidas, ¿Cuál es la estimación para pmra y pmdec del cúmulo globular?\n",
        "\n",
        "**Respuesta:**"
      ]
    },
    {
      "cell_type": "markdown",
      "metadata": {
        "id": "_ad3fEpu_fzn"
      },
      "source": [
        "# Segunda parte: Señal a Ruido\n",
        "Para la siguiente parte deberá trabajar con datos de espectros con líneas de emisión. Un espéctro lo puede entender como un gráfico de potencia vs longitud de onda.\n",
        "\n",
        "Abra el archivo **data_spectra.csv** con pandas y muestre el DataFrame. (No es necesario montar de nuevo el drive porque ya se hizo en la parte anterior).\n",
        "\n",
        "Las columnas **obs** corresponden a observaciones (espectro) de un objeto, en la que cada valor corresponde a la potencia asociada a una longitud de onda. La columna **Wlth** corresponde a las longitudes de onda."
      ]
    },
    {
      "cell_type": "code",
      "execution_count": 16,
      "metadata": {
        "id": "oeslf5cZUU19",
        "outputId": "01d957bc-03c5-4ab8-9076-e219ae988c5c",
        "colab": {
          "base_uri": "https://localhost:8080/",
          "height": 461
        }
      },
      "outputs": [
        {
          "output_type": "execute_result",
          "data": {
            "text/plain": [
              "      Unnamed: 0          Wlth     obs_1     obs_2     obs_3     obs_4  \\\n",
              "0              0  13893.158801  0.673065  1.048759  1.135927  1.365672   \n",
              "1              1  13894.381791  1.218438  1.384774  0.647763  1.286700   \n",
              "2              2  13895.604780  1.244496  0.775893  1.213005  0.898531   \n",
              "3              3  13896.827769  1.395414  0.853016  0.929927  0.617134   \n",
              "4              4  13898.050759  1.013531  0.891468  1.125626  1.354080   \n",
              "...          ...           ...       ...       ...       ...       ...   \n",
              "1415        1415  15623.688705  0.693123  1.222298  1.249391  1.105946   \n",
              "1416        1416  15624.911694  1.387281  1.332809  1.151107  1.254744   \n",
              "1417        1417  15626.134683  1.208096  0.914692  0.874394  1.083929   \n",
              "1418        1418  15627.357673  1.167845  1.261191  1.306496  0.945764   \n",
              "1419        1419  15628.580662  0.624966  0.760200  1.208771  0.668682   \n",
              "\n",
              "         obs_5     obs_6     obs_7     obs_8  ...    obs_11    obs_12  \\\n",
              "0     1.205216  0.777480  0.777436  0.723454  ...  0.851846  0.828067   \n",
              "1     1.223776  1.295540  1.289402  0.979057  ...  0.792874  0.792945   \n",
              "2     1.203176  1.130615  1.133467  0.645016  ...  1.221805  1.081824   \n",
              "3     1.101129  1.363642  0.810799  0.901758  ...  0.847701  1.200020   \n",
              "4     0.681703  0.968364  0.630361  1.299735  ...  0.612065  0.706618   \n",
              "...        ...       ...       ...       ...  ...       ...       ...   \n",
              "1415  1.374470  0.780127  1.094418  1.061418  ...  1.350584  0.760689   \n",
              "1416  1.331042  0.979532  0.881491  1.209496  ...  1.177786  0.711269   \n",
              "1417  1.352754  0.606663  0.657862  1.055156  ...  0.656540  0.970074   \n",
              "1418  1.119779  0.892840  1.305614  0.618601  ...  0.827102  0.619797   \n",
              "1419  0.903250  1.356746  1.157474  0.996727  ...  0.731348  0.876257   \n",
              "\n",
              "        obs_13    obs_14    obs_15    obs_16    obs_17    obs_18    obs_19  \\\n",
              "0     0.964739  0.894189  0.734513  0.888324  0.764781  1.213573  0.952286   \n",
              "1     1.115174  1.228799  0.755613  0.933819  1.020234  1.121144  1.394790   \n",
              "2     0.871400  1.229938  0.928502  0.949589  1.276152  0.616311  1.130431   \n",
              "3     1.196751  1.047428  0.729014  1.230125  1.368756  0.777179  0.810549   \n",
              "4     0.696333  1.021694  1.160951  1.081304  1.387839  0.791448  0.876079   \n",
              "...        ...       ...       ...       ...       ...       ...       ...   \n",
              "1415  1.397787  0.627549  0.698279  0.815585  0.813801  1.079114  0.652794   \n",
              "1416  1.098026  0.829656  1.314102  1.167825  1.275656  0.947942  0.827006   \n",
              "1417  0.997054  1.222855  0.970080  1.306091  1.173684  0.832711  1.381874   \n",
              "1418  1.307590  0.979190  0.767770  1.170864  0.892064  1.355639  0.753463   \n",
              "1419  1.391777  1.157928  0.913591  1.134840  0.971503  1.331920  0.866891   \n",
              "\n",
              "        obs_20  \n",
              "0     0.714581  \n",
              "1     0.795326  \n",
              "2     1.004481  \n",
              "3     0.716121  \n",
              "4     0.704909  \n",
              "...        ...  \n",
              "1415  0.897564  \n",
              "1416  1.365960  \n",
              "1417  1.149033  \n",
              "1418  1.000630  \n",
              "1419  1.005167  \n",
              "\n",
              "[1420 rows x 22 columns]"
            ],
            "text/html": [
              "\n",
              "  <div id=\"df-eb79d601-cf24-43e2-ac47-a43f3a9d6167\" class=\"colab-df-container\">\n",
              "    <div>\n",
              "<style scoped>\n",
              "    .dataframe tbody tr th:only-of-type {\n",
              "        vertical-align: middle;\n",
              "    }\n",
              "\n",
              "    .dataframe tbody tr th {\n",
              "        vertical-align: top;\n",
              "    }\n",
              "\n",
              "    .dataframe thead th {\n",
              "        text-align: right;\n",
              "    }\n",
              "</style>\n",
              "<table border=\"1\" class=\"dataframe\">\n",
              "  <thead>\n",
              "    <tr style=\"text-align: right;\">\n",
              "      <th></th>\n",
              "      <th>Unnamed: 0</th>\n",
              "      <th>Wlth</th>\n",
              "      <th>obs_1</th>\n",
              "      <th>obs_2</th>\n",
              "      <th>obs_3</th>\n",
              "      <th>obs_4</th>\n",
              "      <th>obs_5</th>\n",
              "      <th>obs_6</th>\n",
              "      <th>obs_7</th>\n",
              "      <th>obs_8</th>\n",
              "      <th>...</th>\n",
              "      <th>obs_11</th>\n",
              "      <th>obs_12</th>\n",
              "      <th>obs_13</th>\n",
              "      <th>obs_14</th>\n",
              "      <th>obs_15</th>\n",
              "      <th>obs_16</th>\n",
              "      <th>obs_17</th>\n",
              "      <th>obs_18</th>\n",
              "      <th>obs_19</th>\n",
              "      <th>obs_20</th>\n",
              "    </tr>\n",
              "  </thead>\n",
              "  <tbody>\n",
              "    <tr>\n",
              "      <th>0</th>\n",
              "      <td>0</td>\n",
              "      <td>13893.158801</td>\n",
              "      <td>0.673065</td>\n",
              "      <td>1.048759</td>\n",
              "      <td>1.135927</td>\n",
              "      <td>1.365672</td>\n",
              "      <td>1.205216</td>\n",
              "      <td>0.777480</td>\n",
              "      <td>0.777436</td>\n",
              "      <td>0.723454</td>\n",
              "      <td>...</td>\n",
              "      <td>0.851846</td>\n",
              "      <td>0.828067</td>\n",
              "      <td>0.964739</td>\n",
              "      <td>0.894189</td>\n",
              "      <td>0.734513</td>\n",
              "      <td>0.888324</td>\n",
              "      <td>0.764781</td>\n",
              "      <td>1.213573</td>\n",
              "      <td>0.952286</td>\n",
              "      <td>0.714581</td>\n",
              "    </tr>\n",
              "    <tr>\n",
              "      <th>1</th>\n",
              "      <td>1</td>\n",
              "      <td>13894.381791</td>\n",
              "      <td>1.218438</td>\n",
              "      <td>1.384774</td>\n",
              "      <td>0.647763</td>\n",
              "      <td>1.286700</td>\n",
              "      <td>1.223776</td>\n",
              "      <td>1.295540</td>\n",
              "      <td>1.289402</td>\n",
              "      <td>0.979057</td>\n",
              "      <td>...</td>\n",
              "      <td>0.792874</td>\n",
              "      <td>0.792945</td>\n",
              "      <td>1.115174</td>\n",
              "      <td>1.228799</td>\n",
              "      <td>0.755613</td>\n",
              "      <td>0.933819</td>\n",
              "      <td>1.020234</td>\n",
              "      <td>1.121144</td>\n",
              "      <td>1.394790</td>\n",
              "      <td>0.795326</td>\n",
              "    </tr>\n",
              "    <tr>\n",
              "      <th>2</th>\n",
              "      <td>2</td>\n",
              "      <td>13895.604780</td>\n",
              "      <td>1.244496</td>\n",
              "      <td>0.775893</td>\n",
              "      <td>1.213005</td>\n",
              "      <td>0.898531</td>\n",
              "      <td>1.203176</td>\n",
              "      <td>1.130615</td>\n",
              "      <td>1.133467</td>\n",
              "      <td>0.645016</td>\n",
              "      <td>...</td>\n",
              "      <td>1.221805</td>\n",
              "      <td>1.081824</td>\n",
              "      <td>0.871400</td>\n",
              "      <td>1.229938</td>\n",
              "      <td>0.928502</td>\n",
              "      <td>0.949589</td>\n",
              "      <td>1.276152</td>\n",
              "      <td>0.616311</td>\n",
              "      <td>1.130431</td>\n",
              "      <td>1.004481</td>\n",
              "    </tr>\n",
              "    <tr>\n",
              "      <th>3</th>\n",
              "      <td>3</td>\n",
              "      <td>13896.827769</td>\n",
              "      <td>1.395414</td>\n",
              "      <td>0.853016</td>\n",
              "      <td>0.929927</td>\n",
              "      <td>0.617134</td>\n",
              "      <td>1.101129</td>\n",
              "      <td>1.363642</td>\n",
              "      <td>0.810799</td>\n",
              "      <td>0.901758</td>\n",
              "      <td>...</td>\n",
              "      <td>0.847701</td>\n",
              "      <td>1.200020</td>\n",
              "      <td>1.196751</td>\n",
              "      <td>1.047428</td>\n",
              "      <td>0.729014</td>\n",
              "      <td>1.230125</td>\n",
              "      <td>1.368756</td>\n",
              "      <td>0.777179</td>\n",
              "      <td>0.810549</td>\n",
              "      <td>0.716121</td>\n",
              "    </tr>\n",
              "    <tr>\n",
              "      <th>4</th>\n",
              "      <td>4</td>\n",
              "      <td>13898.050759</td>\n",
              "      <td>1.013531</td>\n",
              "      <td>0.891468</td>\n",
              "      <td>1.125626</td>\n",
              "      <td>1.354080</td>\n",
              "      <td>0.681703</td>\n",
              "      <td>0.968364</td>\n",
              "      <td>0.630361</td>\n",
              "      <td>1.299735</td>\n",
              "      <td>...</td>\n",
              "      <td>0.612065</td>\n",
              "      <td>0.706618</td>\n",
              "      <td>0.696333</td>\n",
              "      <td>1.021694</td>\n",
              "      <td>1.160951</td>\n",
              "      <td>1.081304</td>\n",
              "      <td>1.387839</td>\n",
              "      <td>0.791448</td>\n",
              "      <td>0.876079</td>\n",
              "      <td>0.704909</td>\n",
              "    </tr>\n",
              "    <tr>\n",
              "      <th>...</th>\n",
              "      <td>...</td>\n",
              "      <td>...</td>\n",
              "      <td>...</td>\n",
              "      <td>...</td>\n",
              "      <td>...</td>\n",
              "      <td>...</td>\n",
              "      <td>...</td>\n",
              "      <td>...</td>\n",
              "      <td>...</td>\n",
              "      <td>...</td>\n",
              "      <td>...</td>\n",
              "      <td>...</td>\n",
              "      <td>...</td>\n",
              "      <td>...</td>\n",
              "      <td>...</td>\n",
              "      <td>...</td>\n",
              "      <td>...</td>\n",
              "      <td>...</td>\n",
              "      <td>...</td>\n",
              "      <td>...</td>\n",
              "      <td>...</td>\n",
              "    </tr>\n",
              "    <tr>\n",
              "      <th>1415</th>\n",
              "      <td>1415</td>\n",
              "      <td>15623.688705</td>\n",
              "      <td>0.693123</td>\n",
              "      <td>1.222298</td>\n",
              "      <td>1.249391</td>\n",
              "      <td>1.105946</td>\n",
              "      <td>1.374470</td>\n",
              "      <td>0.780127</td>\n",
              "      <td>1.094418</td>\n",
              "      <td>1.061418</td>\n",
              "      <td>...</td>\n",
              "      <td>1.350584</td>\n",
              "      <td>0.760689</td>\n",
              "      <td>1.397787</td>\n",
              "      <td>0.627549</td>\n",
              "      <td>0.698279</td>\n",
              "      <td>0.815585</td>\n",
              "      <td>0.813801</td>\n",
              "      <td>1.079114</td>\n",
              "      <td>0.652794</td>\n",
              "      <td>0.897564</td>\n",
              "    </tr>\n",
              "    <tr>\n",
              "      <th>1416</th>\n",
              "      <td>1416</td>\n",
              "      <td>15624.911694</td>\n",
              "      <td>1.387281</td>\n",
              "      <td>1.332809</td>\n",
              "      <td>1.151107</td>\n",
              "      <td>1.254744</td>\n",
              "      <td>1.331042</td>\n",
              "      <td>0.979532</td>\n",
              "      <td>0.881491</td>\n",
              "      <td>1.209496</td>\n",
              "      <td>...</td>\n",
              "      <td>1.177786</td>\n",
              "      <td>0.711269</td>\n",
              "      <td>1.098026</td>\n",
              "      <td>0.829656</td>\n",
              "      <td>1.314102</td>\n",
              "      <td>1.167825</td>\n",
              "      <td>1.275656</td>\n",
              "      <td>0.947942</td>\n",
              "      <td>0.827006</td>\n",
              "      <td>1.365960</td>\n",
              "    </tr>\n",
              "    <tr>\n",
              "      <th>1417</th>\n",
              "      <td>1417</td>\n",
              "      <td>15626.134683</td>\n",
              "      <td>1.208096</td>\n",
              "      <td>0.914692</td>\n",
              "      <td>0.874394</td>\n",
              "      <td>1.083929</td>\n",
              "      <td>1.352754</td>\n",
              "      <td>0.606663</td>\n",
              "      <td>0.657862</td>\n",
              "      <td>1.055156</td>\n",
              "      <td>...</td>\n",
              "      <td>0.656540</td>\n",
              "      <td>0.970074</td>\n",
              "      <td>0.997054</td>\n",
              "      <td>1.222855</td>\n",
              "      <td>0.970080</td>\n",
              "      <td>1.306091</td>\n",
              "      <td>1.173684</td>\n",
              "      <td>0.832711</td>\n",
              "      <td>1.381874</td>\n",
              "      <td>1.149033</td>\n",
              "    </tr>\n",
              "    <tr>\n",
              "      <th>1418</th>\n",
              "      <td>1418</td>\n",
              "      <td>15627.357673</td>\n",
              "      <td>1.167845</td>\n",
              "      <td>1.261191</td>\n",
              "      <td>1.306496</td>\n",
              "      <td>0.945764</td>\n",
              "      <td>1.119779</td>\n",
              "      <td>0.892840</td>\n",
              "      <td>1.305614</td>\n",
              "      <td>0.618601</td>\n",
              "      <td>...</td>\n",
              "      <td>0.827102</td>\n",
              "      <td>0.619797</td>\n",
              "      <td>1.307590</td>\n",
              "      <td>0.979190</td>\n",
              "      <td>0.767770</td>\n",
              "      <td>1.170864</td>\n",
              "      <td>0.892064</td>\n",
              "      <td>1.355639</td>\n",
              "      <td>0.753463</td>\n",
              "      <td>1.000630</td>\n",
              "    </tr>\n",
              "    <tr>\n",
              "      <th>1419</th>\n",
              "      <td>1419</td>\n",
              "      <td>15628.580662</td>\n",
              "      <td>0.624966</td>\n",
              "      <td>0.760200</td>\n",
              "      <td>1.208771</td>\n",
              "      <td>0.668682</td>\n",
              "      <td>0.903250</td>\n",
              "      <td>1.356746</td>\n",
              "      <td>1.157474</td>\n",
              "      <td>0.996727</td>\n",
              "      <td>...</td>\n",
              "      <td>0.731348</td>\n",
              "      <td>0.876257</td>\n",
              "      <td>1.391777</td>\n",
              "      <td>1.157928</td>\n",
              "      <td>0.913591</td>\n",
              "      <td>1.134840</td>\n",
              "      <td>0.971503</td>\n",
              "      <td>1.331920</td>\n",
              "      <td>0.866891</td>\n",
              "      <td>1.005167</td>\n",
              "    </tr>\n",
              "  </tbody>\n",
              "</table>\n",
              "<p>1420 rows × 22 columns</p>\n",
              "</div>\n",
              "    <div class=\"colab-df-buttons\">\n",
              "\n",
              "  <div class=\"colab-df-container\">\n",
              "    <button class=\"colab-df-convert\" onclick=\"convertToInteractive('df-eb79d601-cf24-43e2-ac47-a43f3a9d6167')\"\n",
              "            title=\"Convert this dataframe to an interactive table.\"\n",
              "            style=\"display:none;\">\n",
              "\n",
              "  <svg xmlns=\"http://www.w3.org/2000/svg\" height=\"24px\" viewBox=\"0 -960 960 960\">\n",
              "    <path d=\"M120-120v-720h720v720H120Zm60-500h600v-160H180v160Zm220 220h160v-160H400v160Zm0 220h160v-160H400v160ZM180-400h160v-160H180v160Zm440 0h160v-160H620v160ZM180-180h160v-160H180v160Zm440 0h160v-160H620v160Z\"/>\n",
              "  </svg>\n",
              "    </button>\n",
              "\n",
              "  <style>\n",
              "    .colab-df-container {\n",
              "      display:flex;\n",
              "      gap: 12px;\n",
              "    }\n",
              "\n",
              "    .colab-df-convert {\n",
              "      background-color: #E8F0FE;\n",
              "      border: none;\n",
              "      border-radius: 50%;\n",
              "      cursor: pointer;\n",
              "      display: none;\n",
              "      fill: #1967D2;\n",
              "      height: 32px;\n",
              "      padding: 0 0 0 0;\n",
              "      width: 32px;\n",
              "    }\n",
              "\n",
              "    .colab-df-convert:hover {\n",
              "      background-color: #E2EBFA;\n",
              "      box-shadow: 0px 1px 2px rgba(60, 64, 67, 0.3), 0px 1px 3px 1px rgba(60, 64, 67, 0.15);\n",
              "      fill: #174EA6;\n",
              "    }\n",
              "\n",
              "    .colab-df-buttons div {\n",
              "      margin-bottom: 4px;\n",
              "    }\n",
              "\n",
              "    [theme=dark] .colab-df-convert {\n",
              "      background-color: #3B4455;\n",
              "      fill: #D2E3FC;\n",
              "    }\n",
              "\n",
              "    [theme=dark] .colab-df-convert:hover {\n",
              "      background-color: #434B5C;\n",
              "      box-shadow: 0px 1px 3px 1px rgba(0, 0, 0, 0.15);\n",
              "      filter: drop-shadow(0px 1px 2px rgba(0, 0, 0, 0.3));\n",
              "      fill: #FFFFFF;\n",
              "    }\n",
              "  </style>\n",
              "\n",
              "    <script>\n",
              "      const buttonEl =\n",
              "        document.querySelector('#df-eb79d601-cf24-43e2-ac47-a43f3a9d6167 button.colab-df-convert');\n",
              "      buttonEl.style.display =\n",
              "        google.colab.kernel.accessAllowed ? 'block' : 'none';\n",
              "\n",
              "      async function convertToInteractive(key) {\n",
              "        const element = document.querySelector('#df-eb79d601-cf24-43e2-ac47-a43f3a9d6167');\n",
              "        const dataTable =\n",
              "          await google.colab.kernel.invokeFunction('convertToInteractive',\n",
              "                                                    [key], {});\n",
              "        if (!dataTable) return;\n",
              "\n",
              "        const docLinkHtml = 'Like what you see? Visit the ' +\n",
              "          '<a target=\"_blank\" href=https://colab.research.google.com/notebooks/data_table.ipynb>data table notebook</a>'\n",
              "          + ' to learn more about interactive tables.';\n",
              "        element.innerHTML = '';\n",
              "        dataTable['output_type'] = 'display_data';\n",
              "        await google.colab.output.renderOutput(dataTable, element);\n",
              "        const docLink = document.createElement('div');\n",
              "        docLink.innerHTML = docLinkHtml;\n",
              "        element.appendChild(docLink);\n",
              "      }\n",
              "    </script>\n",
              "  </div>\n",
              "\n",
              "\n",
              "<div id=\"df-70b48631-f856-4c3b-a202-8c226b134cfb\">\n",
              "  <button class=\"colab-df-quickchart\" onclick=\"quickchart('df-70b48631-f856-4c3b-a202-8c226b134cfb')\"\n",
              "            title=\"Suggest charts\"\n",
              "            style=\"display:none;\">\n",
              "\n",
              "<svg xmlns=\"http://www.w3.org/2000/svg\" height=\"24px\"viewBox=\"0 0 24 24\"\n",
              "     width=\"24px\">\n",
              "    <g>\n",
              "        <path d=\"M19 3H5c-1.1 0-2 .9-2 2v14c0 1.1.9 2 2 2h14c1.1 0 2-.9 2-2V5c0-1.1-.9-2-2-2zM9 17H7v-7h2v7zm4 0h-2V7h2v10zm4 0h-2v-4h2v4z\"/>\n",
              "    </g>\n",
              "</svg>\n",
              "  </button>\n",
              "\n",
              "<style>\n",
              "  .colab-df-quickchart {\n",
              "      --bg-color: #E8F0FE;\n",
              "      --fill-color: #1967D2;\n",
              "      --hover-bg-color: #E2EBFA;\n",
              "      --hover-fill-color: #174EA6;\n",
              "      --disabled-fill-color: #AAA;\n",
              "      --disabled-bg-color: #DDD;\n",
              "  }\n",
              "\n",
              "  [theme=dark] .colab-df-quickchart {\n",
              "      --bg-color: #3B4455;\n",
              "      --fill-color: #D2E3FC;\n",
              "      --hover-bg-color: #434B5C;\n",
              "      --hover-fill-color: #FFFFFF;\n",
              "      --disabled-bg-color: #3B4455;\n",
              "      --disabled-fill-color: #666;\n",
              "  }\n",
              "\n",
              "  .colab-df-quickchart {\n",
              "    background-color: var(--bg-color);\n",
              "    border: none;\n",
              "    border-radius: 50%;\n",
              "    cursor: pointer;\n",
              "    display: none;\n",
              "    fill: var(--fill-color);\n",
              "    height: 32px;\n",
              "    padding: 0;\n",
              "    width: 32px;\n",
              "  }\n",
              "\n",
              "  .colab-df-quickchart:hover {\n",
              "    background-color: var(--hover-bg-color);\n",
              "    box-shadow: 0 1px 2px rgba(60, 64, 67, 0.3), 0 1px 3px 1px rgba(60, 64, 67, 0.15);\n",
              "    fill: var(--button-hover-fill-color);\n",
              "  }\n",
              "\n",
              "  .colab-df-quickchart-complete:disabled,\n",
              "  .colab-df-quickchart-complete:disabled:hover {\n",
              "    background-color: var(--disabled-bg-color);\n",
              "    fill: var(--disabled-fill-color);\n",
              "    box-shadow: none;\n",
              "  }\n",
              "\n",
              "  .colab-df-spinner {\n",
              "    border: 2px solid var(--fill-color);\n",
              "    border-color: transparent;\n",
              "    border-bottom-color: var(--fill-color);\n",
              "    animation:\n",
              "      spin 1s steps(1) infinite;\n",
              "  }\n",
              "\n",
              "  @keyframes spin {\n",
              "    0% {\n",
              "      border-color: transparent;\n",
              "      border-bottom-color: var(--fill-color);\n",
              "      border-left-color: var(--fill-color);\n",
              "    }\n",
              "    20% {\n",
              "      border-color: transparent;\n",
              "      border-left-color: var(--fill-color);\n",
              "      border-top-color: var(--fill-color);\n",
              "    }\n",
              "    30% {\n",
              "      border-color: transparent;\n",
              "      border-left-color: var(--fill-color);\n",
              "      border-top-color: var(--fill-color);\n",
              "      border-right-color: var(--fill-color);\n",
              "    }\n",
              "    40% {\n",
              "      border-color: transparent;\n",
              "      border-right-color: var(--fill-color);\n",
              "      border-top-color: var(--fill-color);\n",
              "    }\n",
              "    60% {\n",
              "      border-color: transparent;\n",
              "      border-right-color: var(--fill-color);\n",
              "    }\n",
              "    80% {\n",
              "      border-color: transparent;\n",
              "      border-right-color: var(--fill-color);\n",
              "      border-bottom-color: var(--fill-color);\n",
              "    }\n",
              "    90% {\n",
              "      border-color: transparent;\n",
              "      border-bottom-color: var(--fill-color);\n",
              "    }\n",
              "  }\n",
              "</style>\n",
              "\n",
              "  <script>\n",
              "    async function quickchart(key) {\n",
              "      const quickchartButtonEl =\n",
              "        document.querySelector('#' + key + ' button');\n",
              "      quickchartButtonEl.disabled = true;  // To prevent multiple clicks.\n",
              "      quickchartButtonEl.classList.add('colab-df-spinner');\n",
              "      try {\n",
              "        const charts = await google.colab.kernel.invokeFunction(\n",
              "            'suggestCharts', [key], {});\n",
              "      } catch (error) {\n",
              "        console.error('Error during call to suggestCharts:', error);\n",
              "      }\n",
              "      quickchartButtonEl.classList.remove('colab-df-spinner');\n",
              "      quickchartButtonEl.classList.add('colab-df-quickchart-complete');\n",
              "    }\n",
              "    (() => {\n",
              "      let quickchartButtonEl =\n",
              "        document.querySelector('#df-70b48631-f856-4c3b-a202-8c226b134cfb button');\n",
              "      quickchartButtonEl.style.display =\n",
              "        google.colab.kernel.accessAllowed ? 'block' : 'none';\n",
              "    })();\n",
              "  </script>\n",
              "</div>\n",
              "\n",
              "  <div id=\"id_3be0aa7c-4849-4d2e-970f-ac721c138be3\">\n",
              "    <style>\n",
              "      .colab-df-generate {\n",
              "        background-color: #E8F0FE;\n",
              "        border: none;\n",
              "        border-radius: 50%;\n",
              "        cursor: pointer;\n",
              "        display: none;\n",
              "        fill: #1967D2;\n",
              "        height: 32px;\n",
              "        padding: 0 0 0 0;\n",
              "        width: 32px;\n",
              "      }\n",
              "\n",
              "      .colab-df-generate:hover {\n",
              "        background-color: #E2EBFA;\n",
              "        box-shadow: 0px 1px 2px rgba(60, 64, 67, 0.3), 0px 1px 3px 1px rgba(60, 64, 67, 0.15);\n",
              "        fill: #174EA6;\n",
              "      }\n",
              "\n",
              "      [theme=dark] .colab-df-generate {\n",
              "        background-color: #3B4455;\n",
              "        fill: #D2E3FC;\n",
              "      }\n",
              "\n",
              "      [theme=dark] .colab-df-generate:hover {\n",
              "        background-color: #434B5C;\n",
              "        box-shadow: 0px 1px 3px 1px rgba(0, 0, 0, 0.15);\n",
              "        filter: drop-shadow(0px 1px 2px rgba(0, 0, 0, 0.3));\n",
              "        fill: #FFFFFF;\n",
              "      }\n",
              "    </style>\n",
              "    <button class=\"colab-df-generate\" onclick=\"generateWithVariable('data')\"\n",
              "            title=\"Generate code using this dataframe.\"\n",
              "            style=\"display:none;\">\n",
              "\n",
              "  <svg xmlns=\"http://www.w3.org/2000/svg\" height=\"24px\"viewBox=\"0 0 24 24\"\n",
              "       width=\"24px\">\n",
              "    <path d=\"M7,19H8.4L18.45,9,17,7.55,7,17.6ZM5,21V16.75L18.45,3.32a2,2,0,0,1,2.83,0l1.4,1.43a1.91,1.91,0,0,1,.58,1.4,1.91,1.91,0,0,1-.58,1.4L9.25,21ZM18.45,9,17,7.55Zm-12,3A5.31,5.31,0,0,0,4.9,8.1,5.31,5.31,0,0,0,1,6.5,5.31,5.31,0,0,0,4.9,4.9,5.31,5.31,0,0,0,6.5,1,5.31,5.31,0,0,0,8.1,4.9,5.31,5.31,0,0,0,12,6.5,5.46,5.46,0,0,0,6.5,12Z\"/>\n",
              "  </svg>\n",
              "    </button>\n",
              "    <script>\n",
              "      (() => {\n",
              "      const buttonEl =\n",
              "        document.querySelector('#id_3be0aa7c-4849-4d2e-970f-ac721c138be3 button.colab-df-generate');\n",
              "      buttonEl.style.display =\n",
              "        google.colab.kernel.accessAllowed ? 'block' : 'none';\n",
              "\n",
              "      buttonEl.onclick = () => {\n",
              "        google.colab.notebook.generateWithVariable('data');\n",
              "      }\n",
              "      })();\n",
              "    </script>\n",
              "  </div>\n",
              "\n",
              "    </div>\n",
              "  </div>\n"
            ],
            "application/vnd.google.colaboratory.intrinsic+json": {
              "type": "dataframe",
              "variable_name": "data"
            }
          },
          "metadata": {},
          "execution_count": 16
        }
      ],
      "source": [
        "# Lea y muestre el DataFrame aquí\n",
        "path_archivo = '/content/drive/MyDrive/FCFM - Universidad de Chile/Módulo Astro y ciencia de datos/data_spectra.csv'\n",
        "data = pd.read_csv(path_archivo)\n",
        "data"
      ]
    },
    {
      "cell_type": "markdown",
      "metadata": {
        "id": "hq24-d-hUEKK"
      },
      "source": [
        "### a) Gráfico de primer espectro:\n",
        "Grafique el espectro de la primera observación (columna **obs_1** vs columna **Wlth**) y responda: ¿Cuántas líneas de emisión detecta a simple vista?\n",
        "\n",
        "**Respuesta:**"
      ]
    },
    {
      "cell_type": "code",
      "source": [
        "# Se seleccionan los datos de las columnas\n",
        "# obs_1\n",
        "# y se guardan en las variables:\n",
        "obs_1 = data['obs_1']\n",
        "Wlth = data['Wlth']"
      ],
      "metadata": {
        "id": "cJjAR_MOWXW-"
      },
      "execution_count": 18,
      "outputs": []
    },
    {
      "cell_type": "code",
      "execution_count": 23,
      "metadata": {
        "id": "ASKjJCIgVRm5",
        "outputId": "fbe42a13-16e0-4502-f89b-35cb8ddeac22",
        "colab": {
          "base_uri": "https://localhost:8080/",
          "height": 1000
        }
      },
      "outputs": [
        {
          "output_type": "display_data",
          "data": {
            "text/plain": [
              "<Figure size 1000x1500 with 1 Axes>"
            ],
            "image/png": "[encoded data removed]"
          },
          "metadata": {}
        }
      ],
      "source": [
        "# Grafique aquí\n",
        "plt.figure(figsize=(10, 15))\n",
        "plt.plot(obs_1, Wlth, color = 'orange')\n",
        "plt.xlabel('obs_1')\n",
        "plt.ylabel('Wlth')\n",
        "plt.title('Espectro de la primera observación (obs_1 vs Wlth)')\n",
        "plt.show()"
      ]
    },
    {
      "cell_type": "markdown",
      "metadata": {
        "id": "lw7a4L36VLSx"
      },
      "source": [
        "Notará que los valores del eje y están centrados alrededor de 1. Centre la observación en 0. Para esto, estime el valor medio del ruido y réstelo a todo el espectro ¿Cómo piensa que podria hacer esto?. Grafique el espectro resultante.\n",
        "\n",
        "**Respuesta:**"
      ]
    },
    {
      "cell_type": "code",
      "execution_count": null,
      "metadata": {
        "id": "0wp3qEGDV2Ro"
      },
      "outputs": [],
      "source": [
        "# Grafique el espectro centrado en 0 aquí\n"
      ]
    },
    {
      "cell_type": "markdown",
      "metadata": {
        "id": "-wctIMluXMSn"
      },
      "source": [
        "### b) Nivel de ruido:\n",
        "\n",
        "En esta parte estimaremos el nivel de ruido de la la observación 1 de una forma distinta. Para esto siga los sigueintes pasos:"
      ]
    },
    {
      "cell_type": "markdown",
      "metadata": {
        "id": "0Grj907EXPpB"
      },
      "source": [
        "1. Tome la columna **obs_1** y guarde en la variable **ruido** un subconjunto de datos centrados en la media de **obs_1** con un margen de $\\pm 3 \\sigma$, con $\\sigma$ la desviación estándar de **obs_1**.\n",
        "\n",
        "Note que este subconjunto corresponde a ruido principalmente."
      ]
    },
    {
      "cell_type": "code",
      "execution_count": null,
      "metadata": {
        "id": "njBzind3Xemx"
      },
      "outputs": [],
      "source": [
        "ruido ="
      ]
    },
    {
      "cell_type": "markdown",
      "metadata": {
        "id": "Hf5enNp6XfiJ"
      },
      "source": [
        "2. Reste la media del ruido al espectro para centrar y grafique el espectro resultante."
      ]
    },
    {
      "cell_type": "code",
      "execution_count": null,
      "metadata": {
        "id": "xnjenF_OXkCR"
      },
      "outputs": [],
      "source": [
        "# Grafique el espectro centrado en 0 aquí\n"
      ]
    },
    {
      "cell_type": "markdown",
      "metadata": {
        "id": "Mv4guDgcXkXy"
      },
      "source": [
        "3. Calcule $\\sigma$ del ruido y grafique un margen de $\\pm n*\\sigma$ (con $n$ entero) sobre el espectro como dos líneas horizontales. ¿Qué valor de $n$ le parece adecuado y por qué? este será el nivel de ruido.\n",
        "\n",
        "**Respuesta:**"
      ]
    },
    {
      "cell_type": "code",
      "execution_count": null,
      "metadata": {
        "id": "Sm3sOgOxX3EX"
      },
      "outputs": [],
      "source": []
    },
    {
      "cell_type": "markdown",
      "metadata": {
        "id": "d7y0fEa5bIa6"
      },
      "source": [
        "### c) Disminución de $\\sigma$\n",
        "\n",
        "Ahora verá cómo el nivel de ruido disminuye al promediar observaciones. Siga los siguientes pasos:\n",
        "\n",
        "1. Centre todas las observaciones en 0 de la misma manera hecha en ela parte b). Como consejo, puede recorrer las columnas del DataFrame con un for y modificar solo las que correspondan a una observación."
      ]
    },
    {
      "cell_type": "code",
      "execution_count": null,
      "metadata": {
        "id": "uyvsnX2-beug"
      },
      "outputs": [],
      "source": []
    },
    {
      "cell_type": "markdown",
      "metadata": {
        "id": "0C5ZCBMvbfWo"
      },
      "source": [
        "2. A continuación verá cómo cambia sigma a medida que promediamos los espectros. Para esto realice el siguiente algoritmo:\n",
        "\n",
        " - Calcule $\\sigma$ de **obs_1**.\n",
        " - Promedie **obs_1** y **obs_2**, y calcule $\\sigma$.\n",
        " - Promedie **obs_1**, **obs_2** y **obs_3**, y calcule $\\sigma$.\n",
        " - Siga hasta haber promediado todas las observaciones (recuerde guardar los valores de $\\sigma$)\n",
        "\n",
        " Añada al DataFrame una nueva columna **obs_all** que corresponda al promedio de todos los espectros."
      ]
    },
    {
      "cell_type": "code",
      "execution_count": null,
      "metadata": {
        "id": "e8gNHUT1brEv"
      },
      "outputs": [],
      "source": []
    },
    {
      "cell_type": "markdown",
      "metadata": {
        "id": "VnU_U3BobvJs"
      },
      "source": [
        " 3. Finalmente grafique los valores de $\\sigma$ en funcion de $N$, con $N$ el numero de observaciones promediada. ¿Qué ocurre con $\\sigma$? ¿Es esperado el resultado? Comente.\n",
        "\n",
        "**Respuesta:**"
      ]
    },
    {
      "cell_type": "code",
      "execution_count": null,
      "metadata": {
        "id": "Kndqs-L_bxuY"
      },
      "outputs": [],
      "source": []
    },
    {
      "cell_type": "markdown",
      "metadata": {
        "id": "buhUwcZaGujJ"
      },
      "source": [
        "### d) Promedio de observaciones\n",
        "\n",
        "Finalmente grafique el promedio de todas las observaciones (columna **obs_all** vs columna **Wlth**). ¿Cuántas líneas de emisión puede apreciar ahora? ¿Podría explicar a qué se debe? Comente.\n",
        "\n",
        "**Respuesta:**"
      ]
    },
    {
      "cell_type": "code",
      "execution_count": null,
      "metadata": {
        "id": "yKyC9j53dT5U"
      },
      "outputs": [],
      "source": []
    }
  ],
  "metadata": {
    "colab": {
      "provenance": []
    },
    "kernelspec": {
      "display_name": "Python 3 (ipykernel)",
      "language": "python",
      "name": "python3"
    },
    "language_info": {
      "codemirror_mode": {
        "name": "ipython",
        "version": 3
      },
      "file_extension": ".py",
      "mimetype": "text/x-python",
      "name": "python",
      "nbconvert_exporter": "python",
      "pygments_lexer": "ipython3",
      "version": "3.10.12"
    }
  },
  "nbformat": 4,
  "nbformat_minor": 0
}